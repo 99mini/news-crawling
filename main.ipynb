{
 "cells": [
  {
   "cell_type": "markdown",
   "metadata": {},
   "source": [
    "# 요구사항\n",
    "1. 우리나라 대기업 국내외 관련기사->투자, 협약 맺음, 건설 내용잇음더 좋음\n",
    "2. 중국기업 관련기사 국내외\n",
    "3. 중국 기업이 우리나라에 투자하거나 우리나라 기업과 협력 관련기사->거의 안뜸\n",
    "4. 중국 기업이 우리나라에 들어오는 기사->요즘은 알리,테무가 많이 뜨더라\n",
    "이정도..?"
   ]
  },
  {
   "cell_type": "markdown",
   "metadata": {},
   "source": [
    "# pip install & import & setting"
   ]
  },
  {
   "cell_type": "code",
   "execution_count": 191,
   "metadata": {},
   "outputs": [],
   "source": [
    "# !pip3 install requests beautifulsoup4\n",
    "# !pip3 install pandas\n",
    "# !pip3 install openpyxl\n"
   ]
  },
  {
   "cell_type": "code",
   "execution_count": 192,
   "metadata": {},
   "outputs": [],
   "source": [
    "import re\n",
    "import requests\n",
    "from bs4 import BeautifulSoup\n",
    "import pandas as pd\n",
    "\n",
    "from datetime import datetime\n",
    "import os"
   ]
  },
  {
   "cell_type": "code",
   "execution_count": 193,
   "metadata": {},
   "outputs": [],
   "source": [
    "pd.set_option('display.max_colwidth', 100)"
   ]
  },
  {
   "cell_type": "markdown",
   "metadata": {},
   "source": [
    "# Common Functions & Variables"
   ]
  },
  {
   "cell_type": "code",
   "execution_count": 194,
   "metadata": {},
   "outputs": [],
   "source": [
    "current_time = datetime.now().strftime('%y%m%d%H%M%S')"
   ]
  },
  {
   "cell_type": "code",
   "execution_count": 195,
   "metadata": {},
   "outputs": [],
   "source": [
    "def get_bs4_html(url: str):\n",
    "    response = requests.get(url)\n",
    "    if not response.status_code == 200:\n",
    "        print(\"Failed to retrieve the webpage\")\n",
    "        return\n",
    "\n",
    "    html_content = response.content\n",
    "    soup = BeautifulSoup(html_content, 'html.parser')\n",
    "    return soup"
   ]
  },
  {
   "cell_type": "markdown",
   "metadata": {},
   "source": [
    "# Naver Crawling"
   ]
  },
  {
   "cell_type": "markdown",
   "metadata": {},
   "source": [
    "## `https://news.naver.com` setting"
   ]
  },
  {
   "cell_type": "code",
   "execution_count": 196,
   "metadata": {},
   "outputs": [],
   "source": [
    "naver_news_url = \"https://news.naver.com/\""
   ]
  },
  {
   "cell_type": "markdown",
   "metadata": {},
   "source": [
    "## 속보 크롤링"
   ]
  },
  {
   "cell_type": "code",
   "execution_count": 197,
   "metadata": {},
   "outputs": [
    {
     "data": {
      "text/html": [
       "<div>\n",
       "<style scoped>\n",
       "    .dataframe tbody tr th:only-of-type {\n",
       "        vertical-align: middle;\n",
       "    }\n",
       "\n",
       "    .dataframe tbody tr th {\n",
       "        vertical-align: top;\n",
       "    }\n",
       "\n",
       "    .dataframe thead th {\n",
       "        text-align: right;\n",
       "    }\n",
       "</style>\n",
       "<table border=\"1\" class=\"dataframe\">\n",
       "  <thead>\n",
       "    <tr style=\"text-align: right;\">\n",
       "      <th></th>\n",
       "      <th>topic</th>\n",
       "      <th>title</th>\n",
       "      <th>company_name</th>\n",
       "      <th>link</th>\n",
       "    </tr>\n",
       "  </thead>\n",
       "  <tbody>\n",
       "    <tr>\n",
       "      <th>0</th>\n",
       "      <td>속보</td>\n",
       "      <td>지역구 개표율 65% 돌파…민주 172·국힘 112·조국 11·개혁 2·새미래 1 전망</td>\n",
       "      <td>데일리안</td>\n",
       "      <td>https://n.news.naver.com/article/119/0002819086</td>\n",
       "    </tr>\n",
       "    <tr>\n",
       "      <th>1</th>\n",
       "      <td>속보</td>\n",
       "      <td>충남 성일종 당선 등 일부 후보 유력·확실 '윤곽'</td>\n",
       "      <td>대전일보</td>\n",
       "      <td>https://n.news.naver.com/article/656/0000086377</td>\n",
       "    </tr>\n",
       "    <tr>\n",
       "      <th>2</th>\n",
       "      <td>속보</td>\n",
       "      <td>춘천·철원·화천·양구 을 한기호 당선… 4선 성공</td>\n",
       "      <td>강원도민일보</td>\n",
       "      <td>https://n.news.naver.com/article/654/0000071395</td>\n",
       "    </tr>\n",
       "    <tr>\n",
       "      <th>3</th>\n",
       "      <td>속보</td>\n",
       "      <td>서울 용산, 권영세 당선 유력</td>\n",
       "      <td>한국경제</td>\n",
       "      <td>https://n.news.naver.com/article/015/0004971153</td>\n",
       "    </tr>\n",
       "    <tr>\n",
       "      <th>4</th>\n",
       "      <td>속보</td>\n",
       "      <td>대통령실 위치한 서울 용산, 권영세 '당선 유력'…득표율 53.32%</td>\n",
       "      <td>서울경제</td>\n",
       "      <td>https://n.news.naver.com/article/011/0004326012</td>\n",
       "    </tr>\n",
       "    <tr>\n",
       "      <th>5</th>\n",
       "      <td>속보</td>\n",
       "      <td>서울 중·성동갑, 더불어민주당 전현희 당선 확실</td>\n",
       "      <td>이데일리</td>\n",
       "      <td>https://n.news.naver.com/article/018/0005711661</td>\n",
       "    </tr>\n",
       "    <tr>\n",
       "      <th>6</th>\n",
       "      <td>속보</td>\n",
       "      <td>4·10총선 개표율 50% 현재 민주 153곳, 국민의힘 97곳 1위</td>\n",
       "      <td>강원일보</td>\n",
       "      <td>https://n.news.naver.com/article/087/0001037411</td>\n",
       "    </tr>\n",
       "  </tbody>\n",
       "</table>\n",
       "</div>"
      ],
      "text/plain": [
       "  topic                                             title company_name  \\\n",
       "0    속보  지역구 개표율 65% 돌파…민주 172·국힘 112·조국 11·개혁 2·새미래 1 전망         데일리안   \n",
       "1    속보                      충남 성일종 당선 등 일부 후보 유력·확실 '윤곽'         대전일보   \n",
       "2    속보                       춘천·철원·화천·양구 을 한기호 당선… 4선 성공       강원도민일보   \n",
       "3    속보                                  서울 용산, 권영세 당선 유력         한국경제   \n",
       "4    속보            대통령실 위치한 서울 용산, 권영세 '당선 유력'…득표율 53.32%         서울경제   \n",
       "5    속보                        서울 중·성동갑, 더불어민주당 전현희 당선 확실         이데일리   \n",
       "6    속보            4·10총선 개표율 50% 현재 민주 153곳, 국민의힘 97곳 1위         강원일보   \n",
       "\n",
       "                                              link  \n",
       "0  https://n.news.naver.com/article/119/0002819086  \n",
       "1  https://n.news.naver.com/article/656/0000086377  \n",
       "2  https://n.news.naver.com/article/654/0000071395  \n",
       "3  https://n.news.naver.com/article/015/0004971153  \n",
       "4  https://n.news.naver.com/article/011/0004326012  \n",
       "5  https://n.news.naver.com/article/018/0005711661  \n",
       "6  https://n.news.naver.com/article/087/0001037411  "
      ]
     },
     "execution_count": 197,
     "metadata": {},
     "output_type": "execute_result"
    }
   ],
   "source": [
    "# 속보\n",
    "def newsflash_crawling(root_html: BeautifulSoup):\n",
    "    newsflash_list = root_html.find('div', class_=\"cjs_nf_list _item_list\").find_all('a')\n",
    "\n",
    "    if not newsflash_list:\n",
    "        print('속보를 찾을 수 없습니다.')\n",
    "    else:\n",
    "        newsflash_data = []\n",
    "        for newsflash in newsflash_list:\n",
    "            href = newsflash.get('href')\n",
    "            title = newsflash.find('h4', class_=\"cn_title\").text.strip()\n",
    "            company_name = newsflash.find('div', class_=\"cn_name\").text.strip()\n",
    "            newsflash_data.append({'topic':'속보', 'title': title, 'company_name': company_name, 'link': href})\n",
    "        \n",
    "        df = pd.DataFrame(newsflash_data)\n",
    "        return df\n",
    "\n",
    "df_newsflash = newsflash_crawling(get_bs4_html(naver_news_url))\n",
    "df_newsflash"
   ]
  },
  {
   "cell_type": "markdown",
   "metadata": {},
   "source": [
    "## 섹션 크롤링"
   ]
  },
  {
   "cell_type": "code",
   "execution_count": 198,
   "metadata": {},
   "outputs": [],
   "source": [
    "# TODO: 섹션 딕셔너리 만들기\n",
    "def get_section_dictionary():\n",
    "  \n",
    "  return\n",
    "\n",
    "# section map\n",
    "section_dictionary = {\n",
    "    101: {\n",
    "        'main_section': \"경제\",\n",
    "        'sub_section': {\n",
    "          259: \"금융\",\n",
    "          258: \"증권\",\n",
    "            261: \"산업/재계\",\n",
    "            771: \"중기/벤처\",\n",
    "            260: \"부동산\",\n",
    "            262: \"글로벌 경제\",\n",
    "            310: \"생활경제\",\n",
    "            263: \"경제 일반\"\n",
    "        }\n",
    "    },\n",
    "    104: {\n",
    "        'main_section': \"세계\",\n",
    "        'sub_section': {\n",
    "          231: \"아시아/호주\"\n",
    "        }\n",
    "    }\n",
    "}"
   ]
  },
  {
   "cell_type": "code",
   "execution_count": 199,
   "metadata": {},
   "outputs": [],
   "source": [
    "def section_crawling(root_html: BeautifulSoup, section_name: str):\n",
    "    section_list = root_html.find('div', id=\"newsct\").find_all('li')\n",
    "\n",
    "    if not section_list:\n",
    "        print(f'{section_name} 섹션을 찾을 수 없습니다.')\n",
    "    else:\n",
    "        section_data = []\n",
    "\n",
    "        for section in section_list:\n",
    "            content_html = section.find('div', class_=\"sa_text\")\n",
    "            if not content_html:\n",
    "                continue\n",
    "            href = content_html.find('a', class_=\"sa_text_title\").get('href')\n",
    "            title = content_html.find('strong', class_=\"sa_text_strong\").text.strip()\n",
    "            description = content_html.find('div', class_=\"sa_text_lede\").text.strip()\n",
    "            company_name = content_html.find('div', class_=\"sa_text_press\").text.strip()\n",
    "            \n",
    "            section_data.append({'topic': section_name, 'title': title, 'company_name': company_name, \"description\": description,'link': href})\n",
    "        \n",
    "        df = pd.DataFrame(section_data)\n",
    "        return df"
   ]
  },
  {
   "cell_type": "code",
   "execution_count": 200,
   "metadata": {},
   "outputs": [
    {
     "name": "stdout",
     "output_type": "stream",
     "text": [
      "경제 크롤링 성공\n",
      "경제 - 금융 크롤링 성공\n",
      "경제 - 증권 크롤링 성공\n",
      "경제 - 산업/재계 크롤링 성공\n",
      "경제 - 중기/벤처 크롤링 성공\n",
      "경제 - 부동산 크롤링 성공\n",
      "경제 - 글로벌 경제 크롤링 성공\n",
      "경제 - 생활경제 크롤링 성공\n",
      "경제 - 경제 일반 크롤링 성공\n",
      "세계 크롤링 성공\n",
      "세계 - 아시아/호주 크롤링 성공\n"
     ]
    }
   ],
   "source": [
    "all_section_df_list = []\n",
    "\n",
    "for main_section_key, main_section_value in section_dictionary.items():\n",
    "\tmain_section_html = get_bs4_html(f\"https://news.naver.com/section/{main_section_key}\")\n",
    "\tmain_section_df = section_crawling(main_section_html, main_section_value['main_section'])\n",
    "\n",
    "\tif main_section_df is not None:\n",
    "\t\tprint(f\"{main_section_value['main_section']} 크롤링 성공\")\n",
    "\t\tall_section_df_list.append(main_section_df)\n",
    "\n",
    "\tif main_section_value['sub_section']:\n",
    "\t\tfor sub_section_key, sub_section_value in main_section_value['sub_section'].items():\n",
    "\t\t\tsub_section_html = get_bs4_html(f\"https://news.naver.com/breakingnews/section/{main_section_key}/{sub_section_key}\")\n",
    "\t\t\tsub_section_df = section_crawling(sub_section_html, sub_section_value)\n",
    "\n",
    "\t\t\tif main_section_df is not None:\n",
    "\t\t\t\tprint(f\"{main_section_value['main_section']} - {sub_section_value} 크롤링 성공\")\n",
    "\t\t\t\tall_section_df_list.append(sub_section_df)\n",
    "\n",
    "all_section_df = pd.concat(all_section_df_list, ignore_index=True)"
   ]
  },
  {
   "cell_type": "markdown",
   "metadata": {},
   "source": [
    "## join df & to xlsx & to csv"
   ]
  },
  {
   "cell_type": "code",
   "execution_count": 201,
   "metadata": {},
   "outputs": [
    {
     "data": {
      "text/html": [
       "<div>\n",
       "<style scoped>\n",
       "    .dataframe tbody tr th:only-of-type {\n",
       "        vertical-align: middle;\n",
       "    }\n",
       "\n",
       "    .dataframe tbody tr th {\n",
       "        vertical-align: top;\n",
       "    }\n",
       "\n",
       "    .dataframe thead th {\n",
       "        text-align: right;\n",
       "    }\n",
       "</style>\n",
       "<table border=\"1\" class=\"dataframe\">\n",
       "  <thead>\n",
       "    <tr style=\"text-align: right;\">\n",
       "      <th></th>\n",
       "      <th>topic</th>\n",
       "      <th>title</th>\n",
       "      <th>company_name</th>\n",
       "      <th>link</th>\n",
       "      <th>description</th>\n",
       "    </tr>\n",
       "  </thead>\n",
       "  <tbody>\n",
       "    <tr>\n",
       "      <th>0</th>\n",
       "      <td>속보</td>\n",
       "      <td>지역구 개표율 65% 돌파…민주 172·국힘 112·조국 11·개혁 2·새미래 1 전망</td>\n",
       "      <td>데일리안</td>\n",
       "      <td>https://n.news.naver.com/article/119/0002819086</td>\n",
       "      <td>NaN</td>\n",
       "    </tr>\n",
       "    <tr>\n",
       "      <th>1</th>\n",
       "      <td>속보</td>\n",
       "      <td>충남 성일종 당선 등 일부 후보 유력·확실 '윤곽'</td>\n",
       "      <td>대전일보</td>\n",
       "      <td>https://n.news.naver.com/article/656/0000086377</td>\n",
       "      <td>NaN</td>\n",
       "    </tr>\n",
       "    <tr>\n",
       "      <th>2</th>\n",
       "      <td>속보</td>\n",
       "      <td>춘천·철원·화천·양구 을 한기호 당선… 4선 성공</td>\n",
       "      <td>강원도민일보</td>\n",
       "      <td>https://n.news.naver.com/article/654/0000071395</td>\n",
       "      <td>NaN</td>\n",
       "    </tr>\n",
       "    <tr>\n",
       "      <th>3</th>\n",
       "      <td>속보</td>\n",
       "      <td>서울 용산, 권영세 당선 유력</td>\n",
       "      <td>한국경제</td>\n",
       "      <td>https://n.news.naver.com/article/015/0004971153</td>\n",
       "      <td>NaN</td>\n",
       "    </tr>\n",
       "    <tr>\n",
       "      <th>4</th>\n",
       "      <td>속보</td>\n",
       "      <td>대통령실 위치한 서울 용산, 권영세 '당선 유력'…득표율 53.32%</td>\n",
       "      <td>서울경제</td>\n",
       "      <td>https://n.news.naver.com/article/011/0004326012</td>\n",
       "      <td>NaN</td>\n",
       "    </tr>\n",
       "    <tr>\n",
       "      <th>...</th>\n",
       "      <td>...</td>\n",
       "      <td>...</td>\n",
       "      <td>...</td>\n",
       "      <td>...</td>\n",
       "      <td>...</td>\n",
       "    </tr>\n",
       "    <tr>\n",
       "      <th>410</th>\n",
       "      <td>아시아/호주</td>\n",
       "      <td>시진핑, 마잉주에 \"어떤 외세도 가족·국가 재결합 못막아\"</td>\n",
       "      <td>아시아경제</td>\n",
       "      <td>https://n.news.naver.com/mnews/article/277/0005403994</td>\n",
       "      <td>시진핑 중국 국가주석이 중국을 방문 중인 마잉주 전 대만 총통을 만나 \"해협 양안의 동포들은 모두 유구하고 찬란한 역사를 가진 중화문명을 창조한 중화민족에 속한다\"고 말한 ...</td>\n",
       "    </tr>\n",
       "    <tr>\n",
       "      <th>411</th>\n",
       "      <td>아시아/호주</td>\n",
       "      <td>필리핀 대통령 \"미일정상과 남중국해 안보 합의할 것\"…中, 반발(종합2보)</td>\n",
       "      <td>연합뉴스</td>\n",
       "      <td>https://n.news.naver.com/mnews/article/001/0014623288</td>\n",
       "      <td>11일 3국 정상회의…\"항행의 자유 유지 등 협력 이행 구체적 방안 논의\" 中 외교부 \"평화 명분으로 근육 과시·난국 조성…명백한 패권행위\" 강종훈 특파원 홍제성 기자 = ...</td>\n",
       "    </tr>\n",
       "    <tr>\n",
       "      <th>412</th>\n",
       "      <td>아시아/호주</td>\n",
       "      <td>필리핀 대통령 \"美·日과 정상회담서 남중국해 평화 이행 논의\"</td>\n",
       "      <td>뉴시스</td>\n",
       "      <td>https://n.news.naver.com/mnews/article/003/0012484120</td>\n",
       "      <td>오는 11일로 예정된 미국·일본·필리핀 삼자 정상회담에서 남중국해 문제가 중점 논의될 전망이다. 알자지라 등에 따르면 페르디난드 마르코스 필리핀 대통령은 10일(현지시각) ...</td>\n",
       "    </tr>\n",
       "    <tr>\n",
       "      <th>413</th>\n",
       "      <td>아시아/호주</td>\n",
       "      <td>시진핑, 마잉주에 \"어떤 외세도 가족·국가 재결합 못막아\"(종합)</td>\n",
       "      <td>연합뉴스</td>\n",
       "      <td>https://n.news.naver.com/mnews/article/001/0014623277</td>\n",
       "      <td>마잉주 \"양안 전쟁 감당못할 부담…분쟁 평화적 처리해야\" 美日 정상회담 당일 시진핑 '친중' 마잉주 前대만총통 접견 맞불 정성조 특파원 홍제성 기자 = 시진핑 중국 국가주석...</td>\n",
       "    </tr>\n",
       "    <tr>\n",
       "      <th>414</th>\n",
       "      <td>아시아/호주</td>\n",
       "      <td>마잉주 만난 시진핑 \"외부 간섭이 국가단합 막을 수 없어\"</td>\n",
       "      <td>뉴시스</td>\n",
       "      <td>https://n.news.naver.com/mnews/article/003/0012484072</td>\n",
       "      <td>박정규 특파원 = 시진핑 중국 국가주석이 10일 마잉주 전 대만 총통을 만나 \"외부의 간섭이 국가 단합이라는 역사적 대사를 막을 수 없다\"고 말했다고 대만 중앙통신이 보도했...</td>\n",
       "    </tr>\n",
       "  </tbody>\n",
       "</table>\n",
       "<p>422 rows × 5 columns</p>\n",
       "</div>"
      ],
      "text/plain": [
       "      topic                                             title company_name  \\\n",
       "0        속보  지역구 개표율 65% 돌파…민주 172·국힘 112·조국 11·개혁 2·새미래 1 전망         데일리안   \n",
       "1        속보                      충남 성일종 당선 등 일부 후보 유력·확실 '윤곽'         대전일보   \n",
       "2        속보                       춘천·철원·화천·양구 을 한기호 당선… 4선 성공       강원도민일보   \n",
       "3        속보                                  서울 용산, 권영세 당선 유력         한국경제   \n",
       "4        속보            대통령실 위치한 서울 용산, 권영세 '당선 유력'…득표율 53.32%         서울경제   \n",
       "..      ...                                               ...          ...   \n",
       "410  아시아/호주                  시진핑, 마잉주에 \"어떤 외세도 가족·국가 재결합 못막아\"        아시아경제   \n",
       "411  아시아/호주         필리핀 대통령 \"미일정상과 남중국해 안보 합의할 것\"…中, 반발(종합2보)         연합뉴스   \n",
       "412  아시아/호주                필리핀 대통령 \"美·日과 정상회담서 남중국해 평화 이행 논의\"          뉴시스   \n",
       "413  아시아/호주              시진핑, 마잉주에 \"어떤 외세도 가족·국가 재결합 못막아\"(종합)         연합뉴스   \n",
       "414  아시아/호주                  마잉주 만난 시진핑 \"외부 간섭이 국가단합 막을 수 없어\"          뉴시스   \n",
       "\n",
       "                                                      link  \\\n",
       "0          https://n.news.naver.com/article/119/0002819086   \n",
       "1          https://n.news.naver.com/article/656/0000086377   \n",
       "2          https://n.news.naver.com/article/654/0000071395   \n",
       "3          https://n.news.naver.com/article/015/0004971153   \n",
       "4          https://n.news.naver.com/article/011/0004326012   \n",
       "..                                                     ...   \n",
       "410  https://n.news.naver.com/mnews/article/277/0005403994   \n",
       "411  https://n.news.naver.com/mnews/article/001/0014623288   \n",
       "412  https://n.news.naver.com/mnews/article/003/0012484120   \n",
       "413  https://n.news.naver.com/mnews/article/001/0014623277   \n",
       "414  https://n.news.naver.com/mnews/article/003/0012484072   \n",
       "\n",
       "                                                                                             description  \n",
       "0                                                                                                    NaN  \n",
       "1                                                                                                    NaN  \n",
       "2                                                                                                    NaN  \n",
       "3                                                                                                    NaN  \n",
       "4                                                                                                    NaN  \n",
       "..                                                                                                   ...  \n",
       "410  시진핑 중국 국가주석이 중국을 방문 중인 마잉주 전 대만 총통을 만나 \"해협 양안의 동포들은 모두 유구하고 찬란한 역사를 가진 중화문명을 창조한 중화민족에 속한다\"고 말한 ...  \n",
       "411  11일 3국 정상회의…\"항행의 자유 유지 등 협력 이행 구체적 방안 논의\" 中 외교부 \"평화 명분으로 근육 과시·난국 조성…명백한 패권행위\" 강종훈 특파원 홍제성 기자 = ...  \n",
       "412  오는 11일로 예정된 미국·일본·필리핀 삼자 정상회담에서 남중국해 문제가 중점 논의될 전망이다. 알자지라 등에 따르면 페르디난드 마르코스 필리핀 대통령은 10일(현지시각) ...  \n",
       "413  마잉주 \"양안 전쟁 감당못할 부담…분쟁 평화적 처리해야\" 美日 정상회담 당일 시진핑 '친중' 마잉주 前대만총통 접견 맞불 정성조 특파원 홍제성 기자 = 시진핑 중국 국가주석...  \n",
       "414  박정규 특파원 = 시진핑 중국 국가주석이 10일 마잉주 전 대만 총통을 만나 \"외부의 간섭이 국가 단합이라는 역사적 대사를 막을 수 없다\"고 말했다고 대만 중앙통신이 보도했...  \n",
       "\n",
       "[422 rows x 5 columns]"
      ]
     },
     "execution_count": 201,
     "metadata": {},
     "output_type": "execute_result"
    }
   ],
   "source": [
    "total_news_df = pd.concat([df_newsflash, all_section_df])\n",
    "total_news_df"
   ]
  },
  {
   "cell_type": "code",
   "execution_count": 202,
   "metadata": {},
   "outputs": [
    {
     "name": "stdout",
     "output_type": "stream",
     "text": [
      "naver_240410235239.csv 파일 생성\n",
      "naver.xlsx 파일 생성\n"
     ]
    }
   ],
   "source": [
    "# to csv\n",
    "total_news_df.to_csv(f'naver_{current_time}.csv', index=False)\n",
    "print(f'naver_{current_time}.csv 파일 생성')\n",
    "\n",
    "# to xlsx\n",
    "file_name = 'naver.xlsx'\n",
    "\n",
    "if os.path.isfile(file_name):\n",
    "    with pd.ExcelWriter(file_name, mode='a') as writer:\n",
    "        total_news_df.to_excel(writer, sheet_name=current_time, index=False)\n",
    "        print(f'naver.xlsx 파일 {current_time} 시트 생성')\n",
    "else:\n",
    "    with pd.ExcelWriter(file_name) as writer:\n",
    "        total_news_df.to_excel(writer, sheet_name=current_time, index=False)\n",
    "        print(f'naver.xlsx 파일 생성')"
   ]
  },
  {
   "cell_type": "markdown",
   "metadata": {},
   "source": [
    "# kr.investing.com Crawling"
   ]
  }
 ],
 "metadata": {
  "kernelspec": {
   "display_name": "Python 3",
   "language": "python",
   "name": "python3"
  },
  "language_info": {
   "codemirror_mode": {
    "name": "ipython",
    "version": 3
   },
   "file_extension": ".py",
   "mimetype": "text/x-python",
   "name": "python",
   "nbconvert_exporter": "python",
   "pygments_lexer": "ipython3",
   "version": "3.10.12"
  }
 },
 "nbformat": 4,
 "nbformat_minor": 2
}
