{
 "cells": [
  {
   "cell_type": "markdown",
   "metadata": {},
   "source": [
    "# 요구사항\n",
    "1. 우리나라 대기업 국내외 관련기사->투자, 협약 맺음, 건설 내용잇음더 좋음\n",
    "2. 중국기업 관련기사 국내외\n",
    "3. 중국 기업이 우리나라에 투자하거나 우리나라 기업과 협력 관련기사->거의 안뜸\n",
    "4. 중국 기업이 우리나라에 들어오는 기사->요즘은 알리,테무가 많이 뜨더라\n",
    "이정도..?"
   ]
  },
  {
   "cell_type": "markdown",
   "metadata": {},
   "source": [
    "# pip install & import & setting"
   ]
  },
  {
   "cell_type": "code",
   "execution_count": 440,
   "metadata": {},
   "outputs": [
    {
     "name": "stdout",
     "output_type": "stream",
     "text": [
      "Found existing installation: selenium 3.14.1\n",
      "Uninstalling selenium-3.14.1:\n",
      "  Would remove:\n",
      "    /home/mimi99/.local/lib/python3.10/site-packages/selenium-3.14.1.dist-info/*\n",
      "    /home/mimi99/.local/lib/python3.10/site-packages/selenium/*\n",
      "Proceed (Y/n)?   Successfully uninstalled selenium-3.14.1\n",
      "Defaulting to user installation because normal site-packages is not writeable\n",
      "Collecting selenium==3.14.1\n",
      "  Using cached selenium-3.14.1-py2.py3-none-any.whl (902 kB)\n",
      "Requirement already satisfied: urllib3 in /home/mimi99/.local/lib/python3.10/site-packages (from selenium==3.14.1) (2.2.1)\n",
      "Installing collected packages: selenium\n",
      "Successfully installed selenium-3.14.1\n"
     ]
    }
   ],
   "source": [
    "# !pip install requests beautifulsoup4\n",
    "# !pip install pandas\n",
    "# !pip install openpyxl\n",
    "# !pip install selenium\n",
    "# !pip install webdriver_manager"
   ]
  },
  {
   "cell_type": "code",
   "execution_count": 441,
   "metadata": {},
   "outputs": [],
   "source": [
    "import requests\n",
    "from bs4 import BeautifulSoup\n",
    "import pandas as pd\n",
    "\n",
    "from datetime import datetime\n",
    "import os\n",
    "\n",
    "from urllib.parse import quote\n",
    "from selenium import webdriver\n",
    "from selenium.webdriver.chrome.service import Service as ChromeService\n",
    "from webdriver_manager.chrome import ChromeDriverManager\n",
    "from selenium.webdriver.common.by import By"
   ]
  },
  {
   "cell_type": "code",
   "execution_count": 442,
   "metadata": {},
   "outputs": [],
   "source": [
    "pd.set_option('display.max_colwidth', 100)"
   ]
  },
  {
   "cell_type": "markdown",
   "metadata": {},
   "source": [
    "# Common Functions & Variables"
   ]
  },
  {
   "cell_type": "code",
   "execution_count": 443,
   "metadata": {},
   "outputs": [],
   "source": [
    "current_time = datetime.now().strftime('%y%m%d%H%M%S')"
   ]
  },
  {
   "cell_type": "code",
   "execution_count": 444,
   "metadata": {},
   "outputs": [],
   "source": [
    "def get_bs4_html(url: str, use_selenium = False):\n",
    "    if use_selenium:\n",
    "        driver = webdriver.Chrome(service=ChromeService(ChromeDriverManager().install()))\n",
    "        driver.get(url)\n",
    "        driver.implicitly_wait(10)\n",
    "        page_source = driver.page_source\n",
    "        driver.quit()\n",
    "        soup = BeautifulSoup(page_source, 'html.parser')\n",
    "        return soup\n",
    "    \n",
    "    else:\n",
    "        response = requests.get(url)\n",
    "        if not response.status_code == 200:\n",
    "            print(\"Failed to retrieve the webpage\")\n",
    "            return\n",
    "\n",
    "        html_content = response.content\n",
    "        soup = BeautifulSoup(html_content, 'html.parser')\n",
    "        return soup"
   ]
  },
  {
   "cell_type": "markdown",
   "metadata": {},
   "source": [
    "# Naver Crawling"
   ]
  },
  {
   "cell_type": "markdown",
   "metadata": {},
   "source": [
    "## `https://news.naver.com` setting"
   ]
  },
  {
   "cell_type": "code",
   "execution_count": 445,
   "metadata": {},
   "outputs": [],
   "source": [
    "naver_news_url = \"https://news.naver.com/\""
   ]
  },
  {
   "cell_type": "markdown",
   "metadata": {},
   "source": [
    "## 속보 크롤링"
   ]
  },
  {
   "cell_type": "code",
   "execution_count": 446,
   "metadata": {},
   "outputs": [
    {
     "data": {
      "text/html": [
       "<div>\n",
       "<style scoped>\n",
       "    .dataframe tbody tr th:only-of-type {\n",
       "        vertical-align: middle;\n",
       "    }\n",
       "\n",
       "    .dataframe tbody tr th {\n",
       "        vertical-align: top;\n",
       "    }\n",
       "\n",
       "    .dataframe thead th {\n",
       "        text-align: right;\n",
       "    }\n",
       "</style>\n",
       "<table border=\"1\" class=\"dataframe\">\n",
       "  <thead>\n",
       "    <tr style=\"text-align: right;\">\n",
       "      <th></th>\n",
       "      <th>topic</th>\n",
       "      <th>title</th>\n",
       "      <th>company_name</th>\n",
       "      <th>link</th>\n",
       "    </tr>\n",
       "  </thead>\n",
       "  <tbody>\n",
       "    <tr>\n",
       "      <th>0</th>\n",
       "      <td>속보</td>\n",
       "      <td>'명룡대전' 인천 계양을, 민주당 이재명 당선 확실</td>\n",
       "      <td>중앙일보</td>\n",
       "      <td>https://n.news.naver.com/article/025/0003353339</td>\n",
       "    </tr>\n",
       "    <tr>\n",
       "      <th>1</th>\n",
       "      <td>속보</td>\n",
       "      <td>산업장관 “중국관계 안정화, 동맹과 반도체장비 수출통제 공조”</td>\n",
       "      <td>매일경제</td>\n",
       "      <td>https://n.news.naver.com/article/009/0005286334</td>\n",
       "    </tr>\n",
       "    <tr>\n",
       "      <th>2</th>\n",
       "      <td>속보</td>\n",
       "      <td>나경원, 경찰 출신 류삼영 꺾고 당선 확실</td>\n",
       "      <td>국민일보</td>\n",
       "      <td>https://n.news.naver.com/article/005/0001687714</td>\n",
       "    </tr>\n",
       "    <tr>\n",
       "      <th>3</th>\n",
       "      <td>속보</td>\n",
       "      <td>부산 해운대을, 김미애 60.95% 득표 '당선 확실'</td>\n",
       "      <td>머니투데이</td>\n",
       "      <td>https://n.news.naver.com/article/008/0005023966</td>\n",
       "    </tr>\n",
       "    <tr>\n",
       "      <th>4</th>\n",
       "      <td>속보</td>\n",
       "      <td>동작갑, 민주당 김병기 당선 확실…장진영 낙선</td>\n",
       "      <td>노컷뉴스</td>\n",
       "      <td>https://n.news.naver.com/article/079/0003884110</td>\n",
       "    </tr>\n",
       "    <tr>\n",
       "      <th>5</th>\n",
       "      <td>속보</td>\n",
       "      <td>산업장관 \"中관계 안정화하며 동맹과 반도체장비 수출통제 공조\"</td>\n",
       "      <td>연합뉴스</td>\n",
       "      <td>https://n.news.naver.com/article/001/0014623943</td>\n",
       "    </tr>\n",
       "    <tr>\n",
       "      <th>6</th>\n",
       "      <td>속보</td>\n",
       "      <td>4·10총선 개표율 70%…현재 1위 민주 159곳, 국민의힘 92곳</td>\n",
       "      <td>강원일보</td>\n",
       "      <td>https://n.news.naver.com/article/087/0001037429</td>\n",
       "    </tr>\n",
       "    <tr>\n",
       "      <th>7</th>\n",
       "      <td>속보</td>\n",
       "      <td>이재명 '명룡대전' 승리...인천 계양을 당선 '확실'</td>\n",
       "      <td>강원도민일보</td>\n",
       "      <td>https://n.news.naver.com/article/654/0000071403</td>\n",
       "    </tr>\n",
       "    <tr>\n",
       "      <th>8</th>\n",
       "      <td>속보</td>\n",
       "      <td>'최대 격전지' 서울 동작을, 국민의힘 나경원 '당선 확실'</td>\n",
       "      <td>서울경제</td>\n",
       "      <td>https://n.news.naver.com/article/011/0004326022</td>\n",
       "    </tr>\n",
       "    <tr>\n",
       "      <th>9</th>\n",
       "      <td>속보</td>\n",
       "      <td>이재명, 원희룡 누르고 인천 계양을 당선 확실</td>\n",
       "      <td>세계일보</td>\n",
       "      <td>https://n.news.naver.com/article/022/0003923104</td>\n",
       "    </tr>\n",
       "    <tr>\n",
       "      <th>10</th>\n",
       "      <td>속보</td>\n",
       "      <td>전국 개표율 75%…국민의힘 '개헌저지 101석'+13석 가능할듯</td>\n",
       "      <td>데일리안</td>\n",
       "      <td>https://n.news.naver.com/article/119/0002819097</td>\n",
       "    </tr>\n",
       "    <tr>\n",
       "      <th>11</th>\n",
       "      <td>속보</td>\n",
       "      <td>이재명 당선 확실…원희룡 \"겸허히 받들겠다\"</td>\n",
       "      <td>한국경제</td>\n",
       "      <td>https://n.news.naver.com/article/015/0004971187</td>\n",
       "    </tr>\n",
       "  </tbody>\n",
       "</table>\n",
       "</div>"
      ],
      "text/plain": [
       "   topic                                   title company_name  \\\n",
       "0     속보            '명룡대전' 인천 계양을, 민주당 이재명 당선 확실         중앙일보   \n",
       "1     속보      산업장관 “중국관계 안정화, 동맹과 반도체장비 수출통제 공조”         매일경제   \n",
       "2     속보                 나경원, 경찰 출신 류삼영 꺾고 당선 확실         국민일보   \n",
       "3     속보          부산 해운대을, 김미애 60.95% 득표 '당선 확실'        머니투데이   \n",
       "4     속보               동작갑, 민주당 김병기 당선 확실…장진영 낙선         노컷뉴스   \n",
       "5     속보      산업장관 \"中관계 안정화하며 동맹과 반도체장비 수출통제 공조\"         연합뉴스   \n",
       "6     속보  4·10총선 개표율 70%…현재 1위 민주 159곳, 국민의힘 92곳         강원일보   \n",
       "7     속보          이재명 '명룡대전' 승리...인천 계양을 당선 '확실'       강원도민일보   \n",
       "8     속보       '최대 격전지' 서울 동작을, 국민의힘 나경원 '당선 확실'         서울경제   \n",
       "9     속보               이재명, 원희룡 누르고 인천 계양을 당선 확실         세계일보   \n",
       "10    속보    전국 개표율 75%…국민의힘 '개헌저지 101석'+13석 가능할듯         데일리안   \n",
       "11    속보                이재명 당선 확실…원희룡 \"겸허히 받들겠다\"         한국경제   \n",
       "\n",
       "                                               link  \n",
       "0   https://n.news.naver.com/article/025/0003353339  \n",
       "1   https://n.news.naver.com/article/009/0005286334  \n",
       "2   https://n.news.naver.com/article/005/0001687714  \n",
       "3   https://n.news.naver.com/article/008/0005023966  \n",
       "4   https://n.news.naver.com/article/079/0003884110  \n",
       "5   https://n.news.naver.com/article/001/0014623943  \n",
       "6   https://n.news.naver.com/article/087/0001037429  \n",
       "7   https://n.news.naver.com/article/654/0000071403  \n",
       "8   https://n.news.naver.com/article/011/0004326022  \n",
       "9   https://n.news.naver.com/article/022/0003923104  \n",
       "10  https://n.news.naver.com/article/119/0002819097  \n",
       "11  https://n.news.naver.com/article/015/0004971187  "
      ]
     },
     "execution_count": 446,
     "metadata": {},
     "output_type": "execute_result"
    }
   ],
   "source": [
    "# 속보\n",
    "def newsflash_crawling(target_bs4: BeautifulSoup):\n",
    "    newsflash_list = target_bs4.find('div', class_=\"cjs_nf_list _item_list\").find_all('a')\n",
    "\n",
    "    if not newsflash_list:\n",
    "        print('속보를 찾을 수 없습니다.')\n",
    "    else:\n",
    "        newsflash_data = []\n",
    "        for newsflash in newsflash_list:\n",
    "            href = newsflash.get('href')\n",
    "            title = newsflash.find('h4', class_=\"cn_title\").text.strip()\n",
    "            company_name = newsflash.find('div', class_=\"cn_name\").text.strip()\n",
    "            newsflash_data.append({'topic':'속보', 'title': title, 'company_name': company_name, 'link': href})\n",
    "        \n",
    "        df = pd.DataFrame(newsflash_data)\n",
    "        return df\n",
    "\n",
    "df_newsflash = newsflash_crawling(get_bs4_html(naver_news_url))\n",
    "df_newsflash"
   ]
  },
  {
   "cell_type": "markdown",
   "metadata": {},
   "source": [
    "## 섹션 크롤링"
   ]
  },
  {
   "cell_type": "code",
   "execution_count": 447,
   "metadata": {},
   "outputs": [],
   "source": [
    "# TODO: 섹션 딕셔너리 만들기\n",
    "def get_section_dictionary():\n",
    "  \n",
    "  return\n",
    "\n",
    "# section map\n",
    "section_dictionary = {\n",
    "    101: {\n",
    "        'main_section': \"경제\",\n",
    "        'sub_section': {\n",
    "          259: \"금융\",\n",
    "          258: \"증권\",\n",
    "            261: \"산업/재계\",\n",
    "            771: \"중기/벤처\",\n",
    "            260: \"부동산\",\n",
    "            262: \"글로벌 경제\",\n",
    "            310: \"생활경제\",\n",
    "            263: \"경제 일반\"\n",
    "        }\n",
    "    },\n",
    "    104: {\n",
    "        'main_section': \"세계\",\n",
    "        'sub_section': {\n",
    "          231: \"아시아/호주\"\n",
    "        }\n",
    "    }\n",
    "}"
   ]
  },
  {
   "cell_type": "code",
   "execution_count": 448,
   "metadata": {},
   "outputs": [],
   "source": [
    "def section_crawling(target_bs4: BeautifulSoup, section_name: str):\n",
    "    section_list = target_bs4.find('div', id=\"newsct\").find_all('li')\n",
    "\n",
    "    if not section_list:\n",
    "        print(f'{section_name} 섹션을 찾을 수 없습니다.')\n",
    "    else:\n",
    "        section_data = []\n",
    "\n",
    "        for section in section_list:\n",
    "            content_html = section.find('div', class_=\"sa_text\")\n",
    "            if not content_html:\n",
    "                continue\n",
    "            href = content_html.find('a', class_=\"sa_text_title\").get('href')\n",
    "            title = content_html.find('strong', class_=\"sa_text_strong\").text.strip()\n",
    "            description = content_html.find('div', class_=\"sa_text_lede\").text.strip()\n",
    "            company_name = content_html.find('div', class_=\"sa_text_press\").text.strip()\n",
    "            \n",
    "            section_data.append({'topic': section_name, 'title': title, 'company_name': company_name, \"description\": description,'link': href})\n",
    "        \n",
    "        df = pd.DataFrame(section_data)\n",
    "        return df"
   ]
  },
  {
   "cell_type": "code",
   "execution_count": 449,
   "metadata": {},
   "outputs": [
    {
     "name": "stdout",
     "output_type": "stream",
     "text": [
      "경제 크롤링 성공\n",
      "경제 - 금융 크롤링 성공\n",
      "경제 - 증권 크롤링 성공\n",
      "경제 - 산업/재계 크롤링 성공\n",
      "경제 - 중기/벤처 크롤링 성공\n",
      "경제 - 부동산 크롤링 성공\n",
      "경제 - 글로벌 경제 크롤링 성공\n",
      "경제 - 생활경제 크롤링 성공\n",
      "경제 - 경제 일반 크롤링 성공\n",
      "세계 크롤링 성공\n",
      "세계 - 아시아/호주 크롤링 성공\n"
     ]
    }
   ],
   "source": [
    "all_section_df_list = []\n",
    "\n",
    "for main_section_key, main_section_value in section_dictionary.items():\n",
    "\tmain_section_html = get_bs4_html(f\"https://news.naver.com/section/{main_section_key}\")\n",
    "\tmain_section_df = section_crawling(main_section_html, main_section_value['main_section'])\n",
    "\n",
    "\tif main_section_df is not None:\n",
    "\t\tprint(f\"{main_section_value['main_section']} 크롤링 성공\")\n",
    "\t\tall_section_df_list.append(main_section_df)\n",
    "\n",
    "\tif main_section_value['sub_section']:\n",
    "\t\tfor sub_section_key, sub_section_value in main_section_value['sub_section'].items():\n",
    "\t\t\tsub_section_html = get_bs4_html(f\"https://news.naver.com/breakingnews/section/{main_section_key}/{sub_section_key}\")\n",
    "\t\t\tsub_section_df = section_crawling(sub_section_html, sub_section_value)\n",
    "\n",
    "\t\t\tif main_section_df is not None:\n",
    "\t\t\t\tprint(f\"{main_section_value['main_section']} - {sub_section_value} 크롤링 성공\")\n",
    "\t\t\t\tall_section_df_list.append(sub_section_df)\n",
    "\n",
    "all_section_df = pd.concat(all_section_df_list, ignore_index=True)"
   ]
  },
  {
   "cell_type": "markdown",
   "metadata": {},
   "source": [
    "## join df & to xlsx & to csv"
   ]
  },
  {
   "cell_type": "code",
   "execution_count": 450,
   "metadata": {},
   "outputs": [
    {
     "data": {
      "text/html": [
       "<div>\n",
       "<style scoped>\n",
       "    .dataframe tbody tr th:only-of-type {\n",
       "        vertical-align: middle;\n",
       "    }\n",
       "\n",
       "    .dataframe tbody tr th {\n",
       "        vertical-align: top;\n",
       "    }\n",
       "\n",
       "    .dataframe thead th {\n",
       "        text-align: right;\n",
       "    }\n",
       "</style>\n",
       "<table border=\"1\" class=\"dataframe\">\n",
       "  <thead>\n",
       "    <tr style=\"text-align: right;\">\n",
       "      <th></th>\n",
       "      <th>topic</th>\n",
       "      <th>title</th>\n",
       "      <th>company_name</th>\n",
       "      <th>link</th>\n",
       "      <th>description</th>\n",
       "    </tr>\n",
       "  </thead>\n",
       "  <tbody>\n",
       "    <tr>\n",
       "      <th>0</th>\n",
       "      <td>속보</td>\n",
       "      <td>'명룡대전' 인천 계양을, 민주당 이재명 당선 확실</td>\n",
       "      <td>중앙일보</td>\n",
       "      <td>https://n.news.naver.com/article/025/0003353339</td>\n",
       "      <td>NaN</td>\n",
       "    </tr>\n",
       "    <tr>\n",
       "      <th>1</th>\n",
       "      <td>속보</td>\n",
       "      <td>산업장관 “중국관계 안정화, 동맹과 반도체장비 수출통제 공조”</td>\n",
       "      <td>매일경제</td>\n",
       "      <td>https://n.news.naver.com/article/009/0005286334</td>\n",
       "      <td>NaN</td>\n",
       "    </tr>\n",
       "    <tr>\n",
       "      <th>2</th>\n",
       "      <td>속보</td>\n",
       "      <td>나경원, 경찰 출신 류삼영 꺾고 당선 확실</td>\n",
       "      <td>국민일보</td>\n",
       "      <td>https://n.news.naver.com/article/005/0001687714</td>\n",
       "      <td>NaN</td>\n",
       "    </tr>\n",
       "    <tr>\n",
       "      <th>3</th>\n",
       "      <td>속보</td>\n",
       "      <td>부산 해운대을, 김미애 60.95% 득표 '당선 확실'</td>\n",
       "      <td>머니투데이</td>\n",
       "      <td>https://n.news.naver.com/article/008/0005023966</td>\n",
       "      <td>NaN</td>\n",
       "    </tr>\n",
       "    <tr>\n",
       "      <th>4</th>\n",
       "      <td>속보</td>\n",
       "      <td>동작갑, 민주당 김병기 당선 확실…장진영 낙선</td>\n",
       "      <td>노컷뉴스</td>\n",
       "      <td>https://n.news.naver.com/article/079/0003884110</td>\n",
       "      <td>NaN</td>\n",
       "    </tr>\n",
       "    <tr>\n",
       "      <th>...</th>\n",
       "      <td>...</td>\n",
       "      <td>...</td>\n",
       "      <td>...</td>\n",
       "      <td>...</td>\n",
       "      <td>...</td>\n",
       "    </tr>\n",
       "    <tr>\n",
       "      <th>411</th>\n",
       "      <td>아시아/호주</td>\n",
       "      <td>\"美日, 방산정책조정위 발족…방위 무기 공동생산 논의\" 美당국자</td>\n",
       "      <td>뉴시스</td>\n",
       "      <td>https://n.news.naver.com/mnews/article/003/0012484362</td>\n",
       "      <td>미국과 일본이 10일(현지시각) 정상회담을 계기로 향후 방위 무기 공동 생산을 위한 협의체를 발족할 전망이다. 조 바이든 행정부 고위 당국자는 미일 정상회담을 앞두고 진행한...</td>\n",
       "    </tr>\n",
       "    <tr>\n",
       "      <th>412</th>\n",
       "      <td>아시아/호주</td>\n",
       "      <td>[속보] 대만 강진 사망자 16명으로 늘어…\"실종자 3명 수색 중\"</td>\n",
       "      <td>서울경제</td>\n",
       "      <td>https://n.news.naver.com/mnews/article/011/0004325965</td>\n",
       "      <td>대만 강진 사망자 16명으로 늘어…실종자 3명 수색 중</td>\n",
       "    </tr>\n",
       "    <tr>\n",
       "      <th>413</th>\n",
       "      <td>아시아/호주</td>\n",
       "      <td>외신들, 총선 출구조사 결과에 \"여당 참패…尹 레임덕 위기\"</td>\n",
       "      <td>뉴스1</td>\n",
       "      <td>https://n.news.naver.com/mnews/article/421/0007472897</td>\n",
       "      <td>22대 총선의 출구조사 결과가 발표된 10일 외신들도 앞다퉈 보도를 쏟아냈다. 로이터통신과 AFP통신 등 외신들은 이날 범야권이 200석 안팎을 확보할 것이라는 지상파 3사...</td>\n",
       "    </tr>\n",
       "    <tr>\n",
       "      <th>414</th>\n",
       "      <td>아시아/호주</td>\n",
       "      <td>[속보] 대만 강진 사망자 16명으로 늘어…실종자 3명 수색 중</td>\n",
       "      <td>연합뉴스</td>\n",
       "      <td>https://n.news.naver.com/mnews/article/001/0014623326</td>\n",
       "      <td></td>\n",
       "    </tr>\n",
       "    <tr>\n",
       "      <th>415</th>\n",
       "      <td>아시아/호주</td>\n",
       "      <td>시진핑, 마잉주에 \"어떤 외세도 가족·국가 재결합 못막아\"</td>\n",
       "      <td>아시아경제</td>\n",
       "      <td>https://n.news.naver.com/mnews/article/277/0005403994</td>\n",
       "      <td>시진핑 중국 국가주석이 중국을 방문 중인 마잉주 전 대만 총통을 만나 \"해협 양안의 동포들은 모두 유구하고 찬란한 역사를 가진 중화문명을 창조한 중화민족에 속한다\"고 말한 ...</td>\n",
       "    </tr>\n",
       "  </tbody>\n",
       "</table>\n",
       "<p>428 rows × 5 columns</p>\n",
       "</div>"
      ],
      "text/plain": [
       "      topic                                  title company_name  \\\n",
       "0        속보           '명룡대전' 인천 계양을, 민주당 이재명 당선 확실         중앙일보   \n",
       "1        속보     산업장관 “중국관계 안정화, 동맹과 반도체장비 수출통제 공조”         매일경제   \n",
       "2        속보                나경원, 경찰 출신 류삼영 꺾고 당선 확실         국민일보   \n",
       "3        속보         부산 해운대을, 김미애 60.95% 득표 '당선 확실'        머니투데이   \n",
       "4        속보              동작갑, 민주당 김병기 당선 확실…장진영 낙선         노컷뉴스   \n",
       "..      ...                                    ...          ...   \n",
       "411  아시아/호주    \"美日, 방산정책조정위 발족…방위 무기 공동생산 논의\" 美당국자          뉴시스   \n",
       "412  아시아/호주  [속보] 대만 강진 사망자 16명으로 늘어…\"실종자 3명 수색 중\"         서울경제   \n",
       "413  아시아/호주      외신들, 총선 출구조사 결과에 \"여당 참패…尹 레임덕 위기\"          뉴스1   \n",
       "414  아시아/호주    [속보] 대만 강진 사망자 16명으로 늘어…실종자 3명 수색 중         연합뉴스   \n",
       "415  아시아/호주       시진핑, 마잉주에 \"어떤 외세도 가족·국가 재결합 못막아\"        아시아경제   \n",
       "\n",
       "                                                      link  \\\n",
       "0          https://n.news.naver.com/article/025/0003353339   \n",
       "1          https://n.news.naver.com/article/009/0005286334   \n",
       "2          https://n.news.naver.com/article/005/0001687714   \n",
       "3          https://n.news.naver.com/article/008/0005023966   \n",
       "4          https://n.news.naver.com/article/079/0003884110   \n",
       "..                                                     ...   \n",
       "411  https://n.news.naver.com/mnews/article/003/0012484362   \n",
       "412  https://n.news.naver.com/mnews/article/011/0004325965   \n",
       "413  https://n.news.naver.com/mnews/article/421/0007472897   \n",
       "414  https://n.news.naver.com/mnews/article/001/0014623326   \n",
       "415  https://n.news.naver.com/mnews/article/277/0005403994   \n",
       "\n",
       "                                                                                             description  \n",
       "0                                                                                                    NaN  \n",
       "1                                                                                                    NaN  \n",
       "2                                                                                                    NaN  \n",
       "3                                                                                                    NaN  \n",
       "4                                                                                                    NaN  \n",
       "..                                                                                                   ...  \n",
       "411  미국과 일본이 10일(현지시각) 정상회담을 계기로 향후 방위 무기 공동 생산을 위한 협의체를 발족할 전망이다. 조 바이든 행정부 고위 당국자는 미일 정상회담을 앞두고 진행한...  \n",
       "412                                                                       대만 강진 사망자 16명으로 늘어…실종자 3명 수색 중  \n",
       "413  22대 총선의 출구조사 결과가 발표된 10일 외신들도 앞다퉈 보도를 쏟아냈다. 로이터통신과 AFP통신 등 외신들은 이날 범야권이 200석 안팎을 확보할 것이라는 지상파 3사...  \n",
       "414                                                                                                       \n",
       "415  시진핑 중국 국가주석이 중국을 방문 중인 마잉주 전 대만 총통을 만나 \"해협 양안의 동포들은 모두 유구하고 찬란한 역사를 가진 중화문명을 창조한 중화민족에 속한다\"고 말한 ...  \n",
       "\n",
       "[428 rows x 5 columns]"
      ]
     },
     "execution_count": 450,
     "metadata": {},
     "output_type": "execute_result"
    }
   ],
   "source": [
    "total_news_df = pd.concat([df_newsflash, all_section_df])\n",
    "total_news_df"
   ]
  },
  {
   "cell_type": "code",
   "execution_count": 451,
   "metadata": {},
   "outputs": [
    {
     "name": "stdout",
     "output_type": "stream",
     "text": [
      "naver_240411005443.csv 파일 생성\n",
      "naver.xlsx 파일 240411005443 시트 생성\n"
     ]
    }
   ],
   "source": [
    "# to csv\n",
    "total_news_df.to_csv(f'naver_{current_time}.csv', index=False)\n",
    "print(f'naver_{current_time}.csv 파일 생성')\n",
    "\n",
    "# to xlsx\n",
    "file_name = 'naver.xlsx'\n",
    "\n",
    "if os.path.isfile(file_name):\n",
    "    with pd.ExcelWriter(file_name, mode='a') as writer:\n",
    "        total_news_df.to_excel(writer, sheet_name=current_time, index=False)\n",
    "        print(f'naver.xlsx 파일 {current_time} 시트 생성')\n",
    "else:\n",
    "    with pd.ExcelWriter(file_name) as writer:\n",
    "        total_news_df.to_excel(writer, sheet_name=current_time, index=False)\n",
    "        print(f'naver.xlsx 파일 생성')"
   ]
  },
  {
   "cell_type": "markdown",
   "metadata": {},
   "source": [
    "# investing.com Crawling"
   ]
  },
  {
   "cell_type": "markdown",
   "metadata": {},
   "source": [
    "## `kr.investing.com` setting"
   ]
  },
  {
   "cell_type": "code",
   "execution_count": 452,
   "metadata": {},
   "outputs": [],
   "source": [
    "investing_dot_com_url = \"https://kr.investing.com/search/?tab=news&q=\""
   ]
  },
  {
   "cell_type": "markdown",
   "metadata": {},
   "source": [
    "## 키워드 검색"
   ]
  },
  {
   "cell_type": "code",
   "execution_count": 453,
   "metadata": {},
   "outputs": [
    {
     "name": "stderr",
     "output_type": "stream",
     "text": [
      "/bin/sh: 1: google-chrome: not found\n",
      "/bin/sh: 1: google-chrome-stable: not found\n",
      "/bin/sh: 1: google-chrome-beta: not found\n",
      "/bin/sh: 1: google-chrome-dev: not found\n",
      "/bin/sh: 1: google-chrome: not found\n",
      "/bin/sh: 1: google-chrome-stable: not found\n",
      "/bin/sh: 1: google-chrome-beta: not found\n",
      "/bin/sh: 1: google-chrome-dev: not found\n"
     ]
    },
    {
     "ename": "AttributeError",
     "evalue": "'NoneType' object has no attribute 'split'",
     "output_type": "error",
     "traceback": [
      "\u001b[0;31m---------------------------------------------------------------------------\u001b[0m",
      "\u001b[0;31mAttributeError\u001b[0m                            Traceback (most recent call last)",
      "Cell \u001b[0;32mIn[453], line 18\u001b[0m\n\u001b[1;32m     16\u001b[0m       df \u001b[38;5;241m=\u001b[39m pd\u001b[38;5;241m.\u001b[39mDataFrame(investing_news_data)\n\u001b[1;32m     17\u001b[0m       \u001b[38;5;28;01mreturn\u001b[39;00m df\n\u001b[0;32m---> 18\u001b[0m keyword_news_df \u001b[38;5;241m=\u001b[39m \u001b[43minvesting_keyword_news_crawling\u001b[49m\u001b[43m(\u001b[49m\u001b[38;5;124;43m'\u001b[39;49m\u001b[38;5;124;43m한국\u001b[39;49m\u001b[38;5;124;43m'\u001b[39;49m\u001b[43m)\u001b[49m\n\u001b[1;32m     19\u001b[0m keyword_news_df\n",
      "Cell \u001b[0;32mIn[453], line 2\u001b[0m, in \u001b[0;36minvesting_keyword_news_crawling\u001b[0;34m(keyword)\u001b[0m\n\u001b[1;32m      1\u001b[0m \u001b[38;5;28;01mdef\u001b[39;00m \u001b[38;5;21minvesting_keyword_news_crawling\u001b[39m(keyword: \u001b[38;5;28mstr\u001b[39m):\n\u001b[0;32m----> 2\u001b[0m   target_bs4 \u001b[38;5;241m=\u001b[39m \u001b[43mget_bs4_html\u001b[49m\u001b[43m(\u001b[49m\u001b[38;5;124;43mf\u001b[39;49m\u001b[38;5;124;43m'\u001b[39;49m\u001b[38;5;132;43;01m{\u001b[39;49;00m\u001b[43minvesting_dot_com_url\u001b[49m\u001b[38;5;132;43;01m}\u001b[39;49;00m\u001b[38;5;132;43;01m{\u001b[39;49;00m\u001b[43mquote\u001b[49m\u001b[43m(\u001b[49m\u001b[43mkeyword\u001b[49m\u001b[43m)\u001b[49m\u001b[38;5;132;43;01m}\u001b[39;49;00m\u001b[38;5;124;43m'\u001b[39;49m\u001b[43m,\u001b[49m\u001b[43m \u001b[49m\u001b[38;5;28;43;01mTrue\u001b[39;49;00m\u001b[43m)\u001b[49m\n\u001b[1;32m      3\u001b[0m   investing_news_list \u001b[38;5;241m=\u001b[39m target_bs4\u001b[38;5;241m.\u001b[39mfind(\u001b[38;5;124m'\u001b[39m\u001b[38;5;124mdiv\u001b[39m\u001b[38;5;124m'\u001b[39m, class_\u001b[38;5;241m=\u001b[39m\u001b[38;5;124m\"\u001b[39m\u001b[38;5;124mjs-section-content largeTitle\u001b[39m\u001b[38;5;124m\"\u001b[39m)\u001b[38;5;241m.\u001b[39mfind_all(\u001b[38;5;124m'\u001b[39m\u001b[38;5;124mdiv\u001b[39m\u001b[38;5;124m'\u001b[39m, class_\u001b[38;5;241m=\u001b[39m\u001b[38;5;124m\"\u001b[39m\u001b[38;5;124marticleItem\u001b[39m\u001b[38;5;124m\"\u001b[39m)\n\u001b[1;32m      5\u001b[0m   \u001b[38;5;28;01mif\u001b[39;00m \u001b[38;5;129;01mnot\u001b[39;00m investing_news_list:\n",
      "Cell \u001b[0;32mIn[444], line 3\u001b[0m, in \u001b[0;36mget_bs4_html\u001b[0;34m(url, use_selenium)\u001b[0m\n\u001b[1;32m      1\u001b[0m \u001b[38;5;28;01mdef\u001b[39;00m \u001b[38;5;21mget_bs4_html\u001b[39m(url: \u001b[38;5;28mstr\u001b[39m, use_selenium \u001b[38;5;241m=\u001b[39m \u001b[38;5;28;01mFalse\u001b[39;00m):\n\u001b[1;32m      2\u001b[0m     \u001b[38;5;28;01mif\u001b[39;00m use_selenium:\n\u001b[0;32m----> 3\u001b[0m         driver \u001b[38;5;241m=\u001b[39m webdriver\u001b[38;5;241m.\u001b[39mChrome(service\u001b[38;5;241m=\u001b[39mChromeService(\u001b[43mChromeDriverManager\u001b[49m\u001b[43m(\u001b[49m\u001b[43m)\u001b[49m\u001b[38;5;241;43m.\u001b[39;49m\u001b[43minstall\u001b[49m\u001b[43m(\u001b[49m\u001b[43m)\u001b[49m))\n\u001b[1;32m      4\u001b[0m         driver\u001b[38;5;241m.\u001b[39mget(url)\n\u001b[1;32m      5\u001b[0m         driver\u001b[38;5;241m.\u001b[39mimplicitly_wait(\u001b[38;5;241m10\u001b[39m)\n",
      "File \u001b[0;32m~/.local/lib/python3.10/site-packages/webdriver_manager/chrome.py:40\u001b[0m, in \u001b[0;36mChromeDriverManager.install\u001b[0;34m(self)\u001b[0m\n\u001b[1;32m     39\u001b[0m \u001b[38;5;28;01mdef\u001b[39;00m \u001b[38;5;21minstall\u001b[39m(\u001b[38;5;28mself\u001b[39m) \u001b[38;5;241m-\u001b[39m\u001b[38;5;241m>\u001b[39m \u001b[38;5;28mstr\u001b[39m:\n\u001b[0;32m---> 40\u001b[0m     driver_path \u001b[38;5;241m=\u001b[39m \u001b[38;5;28;43mself\u001b[39;49m\u001b[38;5;241;43m.\u001b[39;49m\u001b[43m_get_driver_binary_path\u001b[49m\u001b[43m(\u001b[49m\u001b[38;5;28;43mself\u001b[39;49m\u001b[38;5;241;43m.\u001b[39;49m\u001b[43mdriver\u001b[49m\u001b[43m)\u001b[49m\n\u001b[1;32m     41\u001b[0m     os\u001b[38;5;241m.\u001b[39mchmod(driver_path, \u001b[38;5;241m0o755\u001b[39m)\n\u001b[1;32m     42\u001b[0m     \u001b[38;5;28;01mreturn\u001b[39;00m driver_path\n",
      "File \u001b[0;32m~/.local/lib/python3.10/site-packages/webdriver_manager/core/manager.py:40\u001b[0m, in \u001b[0;36mDriverManager._get_driver_binary_path\u001b[0;34m(self, driver)\u001b[0m\n\u001b[1;32m     37\u001b[0m     \u001b[38;5;28;01mreturn\u001b[39;00m binary_path\n\u001b[1;32m     39\u001b[0m os_type \u001b[38;5;241m=\u001b[39m \u001b[38;5;28mself\u001b[39m\u001b[38;5;241m.\u001b[39mget_os_type()\n\u001b[0;32m---> 40\u001b[0m file \u001b[38;5;241m=\u001b[39m \u001b[38;5;28mself\u001b[39m\u001b[38;5;241m.\u001b[39m_download_manager\u001b[38;5;241m.\u001b[39mdownload_file(\u001b[43mdriver\u001b[49m\u001b[38;5;241;43m.\u001b[39;49m\u001b[43mget_driver_download_url\u001b[49m\u001b[43m(\u001b[49m\u001b[43mos_type\u001b[49m\u001b[43m)\u001b[49m)\n\u001b[1;32m     41\u001b[0m binary_path \u001b[38;5;241m=\u001b[39m \u001b[38;5;28mself\u001b[39m\u001b[38;5;241m.\u001b[39m_cache_manager\u001b[38;5;241m.\u001b[39msave_file_to_cache(driver, file)\n\u001b[1;32m     42\u001b[0m \u001b[38;5;28;01mreturn\u001b[39;00m binary_path\n",
      "File \u001b[0;32m~/.local/lib/python3.10/site-packages/webdriver_manager/drivers/chrome.py:32\u001b[0m, in \u001b[0;36mChromeDriver.get_driver_download_url\u001b[0;34m(self, os_type)\u001b[0m\n\u001b[1;32m     31\u001b[0m \u001b[38;5;28;01mdef\u001b[39;00m \u001b[38;5;21mget_driver_download_url\u001b[39m(\u001b[38;5;28mself\u001b[39m, os_type):\n\u001b[0;32m---> 32\u001b[0m     driver_version_to_download \u001b[38;5;241m=\u001b[39m \u001b[38;5;28;43mself\u001b[39;49m\u001b[38;5;241;43m.\u001b[39;49m\u001b[43mget_driver_version_to_download\u001b[49m\u001b[43m(\u001b[49m\u001b[43m)\u001b[49m\n\u001b[1;32m     33\u001b[0m     \u001b[38;5;66;03m# For Mac ARM CPUs after version 106.0.5249.61 the format of OS type changed\u001b[39;00m\n\u001b[1;32m     34\u001b[0m     \u001b[38;5;66;03m# to more unified \"mac_arm64\". For newer versions, it'll be \"mac_arm64\"\u001b[39;00m\n\u001b[1;32m     35\u001b[0m     \u001b[38;5;66;03m# by default, for lower versions we replace \"mac_arm64\" to old format - \"mac64_m1\".\u001b[39;00m\n\u001b[1;32m     36\u001b[0m     \u001b[38;5;28;01mif\u001b[39;00m version\u001b[38;5;241m.\u001b[39mparse(driver_version_to_download) \u001b[38;5;241m<\u001b[39m version\u001b[38;5;241m.\u001b[39mparse(\u001b[38;5;124m\"\u001b[39m\u001b[38;5;124m106.0.5249.61\u001b[39m\u001b[38;5;124m\"\u001b[39m):\n",
      "File \u001b[0;32m~/.local/lib/python3.10/site-packages/webdriver_manager/core/driver.py:48\u001b[0m, in \u001b[0;36mDriver.get_driver_version_to_download\u001b[0;34m(self)\u001b[0m\n\u001b[1;32m     45\u001b[0m \u001b[38;5;28;01mif\u001b[39;00m \u001b[38;5;28mself\u001b[39m\u001b[38;5;241m.\u001b[39m_driver_version_to_download:\n\u001b[1;32m     46\u001b[0m     \u001b[38;5;28;01mreturn\u001b[39;00m \u001b[38;5;28mself\u001b[39m\u001b[38;5;241m.\u001b[39m_driver_version_to_download\n\u001b[0;32m---> 48\u001b[0m \u001b[38;5;28;01mreturn\u001b[39;00m \u001b[38;5;28;43mself\u001b[39;49m\u001b[38;5;241;43m.\u001b[39;49m\u001b[43mget_latest_release_version\u001b[49m\u001b[43m(\u001b[49m\u001b[43m)\u001b[49m\n",
      "File \u001b[0;32m~/.local/lib/python3.10/site-packages/webdriver_manager/drivers/chrome.py:64\u001b[0m, in \u001b[0;36mChromeDriver.get_latest_release_version\u001b[0;34m(self)\u001b[0m\n\u001b[1;32m     62\u001b[0m     \u001b[38;5;28;01mreturn\u001b[39;00m determined_browser_version\n\u001b[1;32m     63\u001b[0m \u001b[38;5;66;03m# Remove the build version (the last segment) from determined_browser_version for version < 113\u001b[39;00m\n\u001b[0;32m---> 64\u001b[0m determined_browser_version \u001b[38;5;241m=\u001b[39m \u001b[38;5;124m\"\u001b[39m\u001b[38;5;124m.\u001b[39m\u001b[38;5;124m\"\u001b[39m\u001b[38;5;241m.\u001b[39mjoin(\u001b[43mdetermined_browser_version\u001b[49m\u001b[38;5;241;43m.\u001b[39;49m\u001b[43msplit\u001b[49m(\u001b[38;5;124m\"\u001b[39m\u001b[38;5;124m.\u001b[39m\u001b[38;5;124m\"\u001b[39m)[:\u001b[38;5;241m3\u001b[39m])\n\u001b[1;32m     65\u001b[0m latest_release_url \u001b[38;5;241m=\u001b[39m (\n\u001b[1;32m     66\u001b[0m     \u001b[38;5;28mself\u001b[39m\u001b[38;5;241m.\u001b[39m_latest_release_url\n\u001b[1;32m     67\u001b[0m     \u001b[38;5;28;01mif\u001b[39;00m (determined_browser_version \u001b[38;5;129;01mis\u001b[39;00m \u001b[38;5;28;01mNone\u001b[39;00m)\n\u001b[1;32m     68\u001b[0m     \u001b[38;5;28;01melse\u001b[39;00m \u001b[38;5;124mf\u001b[39m\u001b[38;5;124m\"\u001b[39m\u001b[38;5;132;01m{\u001b[39;00m\u001b[38;5;28mself\u001b[39m\u001b[38;5;241m.\u001b[39m_latest_release_url\u001b[38;5;132;01m}\u001b[39;00m\u001b[38;5;124m_\u001b[39m\u001b[38;5;132;01m{\u001b[39;00mdetermined_browser_version\u001b[38;5;132;01m}\u001b[39;00m\u001b[38;5;124m\"\u001b[39m\n\u001b[1;32m     69\u001b[0m )\n\u001b[1;32m     70\u001b[0m resp \u001b[38;5;241m=\u001b[39m \u001b[38;5;28mself\u001b[39m\u001b[38;5;241m.\u001b[39m_http_client\u001b[38;5;241m.\u001b[39mget(url\u001b[38;5;241m=\u001b[39mlatest_release_url)\n",
      "\u001b[0;31mAttributeError\u001b[0m: 'NoneType' object has no attribute 'split'"
     ]
    }
   ],
   "source": [
    "def investing_keyword_news_crawling(keyword: str):\n",
    "  target_bs4 = get_bs4_html(f'{investing_dot_com_url}{quote(keyword)}', True)\n",
    "  investing_news_list = target_bs4.find('div', class_=\"js-section-content largeTitle\").find_all('div', class_=\"articleItem\")\n",
    "\n",
    "  if not investing_news_list:\n",
    "      print('investing 뉴스를 찾을 수 없습니다.')\n",
    "  else:\n",
    "      investing_news_data = []\n",
    "      for investing_news in investing_news_list:\n",
    "        print(investing_news)\n",
    "        #   href = investing_news.get('href')\n",
    "        #   title = investing_news.find('h4', class_=\"cn_title\").text.strip()\n",
    "        #   company_name = investing_news.find('div', class_=\"cn_name\").text.strip()\n",
    "        #   investing_news_data.append({'topic':'속보', 'title': title, 'company_name': company_name, 'link': href})\n",
    "      \n",
    "      df = pd.DataFrame(investing_news_data)\n",
    "      return df\n",
    "keyword_news_df = investing_keyword_news_crawling('한국')\n",
    "keyword_news_df"
   ]
  }
 ],
 "metadata": {
  "kernelspec": {
   "display_name": "Python 3",
   "language": "python",
   "name": "python3"
  },
  "language_info": {
   "codemirror_mode": {
    "name": "ipython",
    "version": 3
   },
   "file_extension": ".py",
   "mimetype": "text/x-python",
   "name": "python",
   "nbconvert_exporter": "python",
   "pygments_lexer": "ipython3",
   "version": "3.10.12"
  }
 },
 "nbformat": 4,
 "nbformat_minor": 2
}
